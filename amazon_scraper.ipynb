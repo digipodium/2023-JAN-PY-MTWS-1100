{
 "cells": [
  {
   "cell_type": "code",
   "execution_count": 1,
   "metadata": {},
   "outputs": [],
   "source": [
    "from dputils.scrape import Scraper, Tag"
   ]
  },
  {
   "cell_type": "code",
   "execution_count": 3,
   "metadata": {},
   "outputs": [
    {
     "name": "stdout",
     "output_type": "stream",
     "text": [
      "https://www.amazon.in/s?k=books&page=1\n"
     ]
    },
    {
     "data": {
      "text/plain": [
       "<title>Amazon.in : books</title>"
      ]
     },
     "execution_count": 3,
     "metadata": {},
     "output_type": "execute_result"
    }
   ],
   "source": [
    "page = 1\n",
    "query ='books'\n",
    "wp = Scraper(f'https://www.amazon.in/s?k={query}&page={page}')\n",
    "print(wp.url)\n",
    "wp.soup.title"
   ]
  },
  {
   "cell_type": "code",
   "execution_count": 16,
   "metadata": {},
   "outputs": [
    {
     "data": {
      "text/plain": [
       "[{'name': None, 'price': None},\n",
       " {'name': None, 'price': None},\n",
       " {'name': 'The Freedom Manifesto: 7 Rules to Live a Life of Your Calling  ',\n",
       "  'price': '199.'},\n",
       " {'name': 'World’s Greatest Books For Personal Growth & Wealth (Set of 4 Books): Perfect Motivational Gift Set  ',\n",
       "  'price': '325'},\n",
       " {'name': 'Atomic Habits: the life-changing million-copy #1 bestseller  ',\n",
       "  'price': '178.'},\n",
       " {'name': 'Dopamine Detox : A Short Guide to Remove Distractions and Get Your Brain to Do Hard Things (Productivity Series Book 1)  ',\n",
       "  'price': '0'},\n",
       " {'name': 'Little Colouring Books for Kids (Set of 10 Books) - Gift to children for painting, drawing and colouring - Alphabets, Animals, Birds, Flags, Flowers, ... Transport, Vegetables - 3 to 6 years old  ',\n",
       "  'price': '189'},\n",
       " {'name': 'How to Win Friends and Influence People\\xa0[Original Edition (Complete), PREMIUM PAPERBACK]  ',\n",
       "  'price': '115'},\n",
       " {'name': None, 'price': None},\n",
       " {'name': 'Brain Activity Book for Kids - 200+ Activities for Age 3+  ',\n",
       "  'price': '98'},\n",
       " {'name': 'Phonic Reader (Illustrated) (Set of 6 Books) - Story Book for Kids - Bedtime Stories - 2 Years to 6 Years Old - Read Aloud to Infants, Toddlers  ',\n",
       "  'price': '151'},\n",
       " {'name': 'Energize Your Mind: Learn the Art of Mastering Your Thoughts, Feelings and Emotions  ',\n",
       "  'price': '193'},\n",
       " {'name': 'Moral Story Books for Kids (Set of 10 Books) (Illustrated) - English Short Stories with Colourful Pictures - Bedtime Children Story Book - 3 Years to 6 Years Old Children - Read Aloud to Infants, Toddlers  ',\n",
       "  'price': '221'},\n",
       " {'name': 'My First Mythology Tale (Illustrated) (Set of 5 Books) - Mahabharata, Krishna, Hanuman, Ganesha, Ramayana - Story Book for Kids - English Short Stories with Colourful Pictures - Read Aloud to Infants, Toddlers  ',\n",
       "  'price': '193'},\n",
       " {'name': 'Memory: How To Develop, Train, And Use It  ', 'price': '91'},\n",
       " {'name': 'The Power of A Positive Attitude: Your Road To Success  ',\n",
       "  'price': '93'},\n",
       " {'name': 'My First Library: Boxset of 10 Board Books for Kids  ',\n",
       "  'price': '399'},\n",
       " {'name': None, 'price': None},\n",
       " {'name': 'The Subtle Art of Not Giving a F*ck: A Counterintuitive Approach to Living a Good Life (Mark Manson Collection Book 1)  ',\n",
       "  'price': '168.'},\n",
       " {'name': 'The Power of Your Subconscious Mind  ', 'price': '0'},\n",
       " {'name': 'My First Book of Pencil Control : Practice Pattern Writing (Full Color Pages): Patterns Practice book for kids (Pattern Writing)  ',\n",
       "  'price': '139'},\n",
       " {'name': 'Shlokas and Mantras - Activity Book For Kids - Illustrated Book With Engaging Activities and Sticker Sheets  ',\n",
       "  'price': '160'},\n",
       " {'name': 'NCERT Original Class 10 Books Set of 10 Books  ', 'price': '827'},\n",
       " {'name': '5000 + Daily Use English Sentences | Kanchan Keshari  ',\n",
       "  'price': '279'},\n",
       " {'name': 'Picture Books Collection for Early Learning (Set of 12)  ',\n",
       "  'price': '221'},\n",
       " {'name': 'The Power of your Subconscious Mind  ', 'price': '145'},\n",
       " {'name': 'Pride & Prejudice  ', 'price': '145'},\n",
       " {'name': None, 'price': None},\n",
       " {'name': None, 'price': None},\n",
       " {'name': None, 'price': None},\n",
       " {'name': None, 'price': None}]"
      ]
     },
     "execution_count": 16,
     "metadata": {},
     "output_type": "execute_result"
    }
   ],
   "source": [
    "target = Tag(cls='s-main-slot s-result-list s-search-results sg-row')\n",
    "items = Tag(cls='s-result-item')\n",
    "title = Tag('h2')\n",
    "price = Tag('span',cls='a-price-whole')\n",
    "rating = Tag()\n",
    "wp.get_all(target, items, name=title, price=price)"
   ]
  },
  {
   "cell_type": "code",
   "execution_count": null,
   "metadata": {},
   "outputs": [],
   "source": []
  },
  {
   "cell_type": "code",
   "execution_count": null,
   "metadata": {},
   "outputs": [],
   "source": []
  }
 ],
 "metadata": {
  "kernelspec": {
   "display_name": "base",
   "language": "python",
   "name": "python3"
  },
  "language_info": {
   "codemirror_mode": {
    "name": "ipython",
    "version": 3
   },
   "file_extension": ".py",
   "mimetype": "text/x-python",
   "name": "python",
   "nbconvert_exporter": "python",
   "pygments_lexer": "ipython3",
   "version": "3.10.9"
  },
  "orig_nbformat": 4
 },
 "nbformat": 4,
 "nbformat_minor": 2
}
