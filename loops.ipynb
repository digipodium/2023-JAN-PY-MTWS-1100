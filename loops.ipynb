{
 "cells": [
  {
   "cell_type": "code",
   "execution_count": 1,
   "metadata": {},
   "outputs": [
    {
     "name": "stdout",
     "output_type": "stream",
     "text": [
      "t\n",
      "h\n",
      "e\n",
      " \n",
      "w\n",
      "a\n",
      "y\n",
      " \n",
      "o\n",
      "f\n",
      " \n",
      "t\n",
      "h\n",
      "e\n",
      " \n",
      "k\n",
      "i\n",
      "n\n",
      "g\n",
      "s\n"
     ]
    }
   ],
   "source": [
    "name = \"the way of the kings\"\n",
    "for char in name:\n",
    "    print(char)"
   ]
  },
  {
   "cell_type": "code",
   "execution_count": 2,
   "metadata": {},
   "outputs": [],
   "source": [
    "movies = [\n",
    "    'Shershah',\n",
    "    'Pathan',\n",
    "    'Koi mil gya',\n",
    "    'kuch kuch hota h',\n",
    "    'nadiya paar',\n",
    "    '3 idiots',\n",
    "    'chichore',\n",
    "    'pati patni or woh',\n",
    "    'dhamaal',\n",
    "    'chupke chupke'\n",
    "]\n",
    "# alag alag batch ka level alag hota h"
   ]
  },
  {
   "cell_type": "code",
   "execution_count": 3,
   "metadata": {},
   "outputs": [
    {
     "name": "stdout",
     "output_type": "stream",
     "text": [
      "Shershah | 8\n",
      "Pathan | 6\n",
      "Koi mil gya | 11\n",
      "kuch kuch hota h | 16\n",
      "nadiya paar | 11\n",
      "3 idiots | 8\n",
      "chichore | 8\n",
      "pati patni or woh | 17\n",
      "dhamaal | 7\n",
      "chupke chupke | 13\n"
     ]
    }
   ],
   "source": [
    "# for every movie in movies\n",
    "for movie in movies:\n",
    "    print(f'{movie} | {len(movie)}')"
   ]
  },
  {
   "cell_type": "code",
   "execution_count": 4,
   "metadata": {},
   "outputs": [
    {
     "name": "stdout",
     "output_type": "stream",
     "text": [
      "0 1 2 3 4 5 6 7 8 9 10 11 12 13 14 15 16 17 18 19 20 21 22 23 24 25 26 27 28 29 30 31 32 33 34 35 36 37 38 39 40 41 42 43 44 45 46 47 48 49 50 51 52 53 54 55 56 57 58 59 60 61 62 63 64 65 66 67 68 69 70 71 72 73 74 75 76 77 78 79 80 81 82 83 84 85 86 87 88 89 90 91 92 93 94 95 96 97 98 99 100 101 102 103 104 105 106 107 108 109 110 111 112 113 114 115 116 117 118 119 120 121 122 123 124 125 126 127 128 129 130 131 132 133 134 135 136 137 138 139 140 141 142 143 144 145 146 147 148 149 150 151 152 153 154 155 156 157 158 159 160 161 162 163 164 165 166 167 168 169 170 171 172 173 174 175 176 177 178 179 180 181 182 183 184 185 186 187 188 189 190 191 192 193 194 195 196 197 198 199 200 201 202 203 204 205 206 207 208 209 210 211 212 213 214 215 216 217 218 219 220 221 222 223 224 225 226 227 228 229 230 231 232 233 234 235 236 237 238 239 240 241 242 243 244 245 246 247 248 249 250 251 252 253 254 255 256 257 258 259 260 261 262 263 264 265 266 267 268 269 270 271 272 273 274 275 276 277 278 279 280 281 282 283 284 285 286 287 288 289 290 291 292 293 294 295 296 297 298 299 300 301 302 303 304 305 306 307 308 309 310 311 312 313 314 315 316 317 318 319 320 321 322 323 324 325 326 327 328 329 330 331 332 333 334 335 336 337 338 339 340 341 342 343 344 345 346 347 348 349 350 351 352 353 354 355 356 357 358 359 360 361 362 363 364 365 366 367 368 369 370 371 372 373 374 375 376 377 378 379 380 381 382 383 384 385 386 387 388 389 390 391 392 393 394 395 396 397 398 399 400 401 402 403 404 405 406 407 408 409 410 411 412 413 414 415 416 417 418 419 420 421 422 423 424 425 426 427 428 429 430 431 432 433 434 435 436 437 438 439 440 441 442 443 444 445 446 447 448 449 450 451 452 453 454 455 456 457 458 459 460 461 462 463 464 465 466 467 468 469 470 471 472 473 474 475 476 477 478 479 480 481 482 483 484 485 486 487 488 489 490 491 492 493 494 495 496 497 498 499 500 501 502 503 504 505 506 507 508 509 510 511 512 513 514 515 516 517 518 519 520 521 522 523 524 525 526 527 528 529 530 531 532 533 534 535 536 537 538 539 540 541 542 543 544 545 546 547 548 549 550 551 552 553 554 555 556 557 558 559 560 561 562 563 564 565 566 567 568 569 570 571 572 573 574 575 576 577 578 579 580 581 582 583 584 585 586 587 588 589 590 591 592 593 594 595 596 597 598 599 600 601 602 603 604 605 606 607 608 609 610 611 612 613 614 615 616 617 618 619 620 621 622 623 624 625 626 627 628 629 630 631 632 633 634 635 636 637 638 639 640 641 642 643 644 645 646 647 648 649 650 651 652 653 654 655 656 657 658 659 660 661 662 663 664 665 666 667 668 669 670 671 672 673 674 675 676 677 678 679 680 681 682 683 684 685 686 687 688 689 690 691 692 693 694 695 696 697 698 699 700 701 702 703 704 705 706 707 708 709 710 711 712 713 714 715 716 717 718 719 720 721 722 723 724 725 726 727 728 729 730 731 732 733 734 735 736 737 738 739 740 741 742 743 744 745 746 747 748 749 750 751 752 753 754 755 756 757 758 759 760 761 762 763 764 765 766 767 768 769 770 771 772 773 774 775 776 777 778 779 780 781 782 783 784 785 786 787 788 789 790 791 792 793 794 795 796 797 798 799 800 801 802 803 804 805 806 807 808 809 810 811 812 813 814 815 816 817 818 819 820 821 822 823 824 825 826 827 828 829 830 831 832 833 834 835 836 837 838 839 840 841 842 843 844 845 846 847 848 849 850 851 852 853 854 855 856 857 858 859 860 861 862 863 864 865 866 867 868 869 870 871 872 873 874 875 876 877 878 879 880 881 882 883 884 885 886 887 888 889 890 891 892 893 894 895 896 897 898 899 900 901 902 903 904 905 906 907 908 909 910 911 912 913 914 915 916 917 918 919 920 921 922 923 924 925 926 927 928 929 930 931 932 933 934 935 936 937 938 939 940 941 942 943 944 945 946 947 948 949 950 951 952 953 954 955 956 957 958 959 960 961 962 963 964 965 966 967 968 969 970 971 972 973 974 975 976 977 978 979 980 981 982 983 984 985 986 987 988 989 990 991 992 993 994 995 996 997 998 999 "
     ]
    }
   ],
   "source": [
    "# if one value is passed in range(), then that is the end value\n",
    "for x in range(1000):\n",
    "    print(x, end=' ') # end is a setting for print function\n",
    "    # by default print changes line, but here we are putting spaces"
   ]
  },
  {
   "cell_type": "code",
   "execution_count": 5,
   "metadata": {},
   "outputs": [
    {
     "name": "stdout",
     "output_type": "stream",
     "text": [
      "1 6 11 16 21 26 31 36 41 46 51 56 61 66 71 76 81 86 91 96 "
     ]
    }
   ],
   "source": [
    "# range() can also take 3 values, first is start value, sencond is end value\n",
    "# last is the gap between each step\n",
    "for i in range(1, 100, 5):\n",
    "    print(i, end=' ')"
   ]
  },
  {
   "attachments": {},
   "cell_type": "markdown",
   "metadata": {},
   "source": [
    "#### wap to print all odd numbers from 1 to 100"
   ]
  },
  {
   "attachments": {},
   "cell_type": "markdown",
   "metadata": {},
   "source": [
    "special iterables\n",
    "- `range()`\n",
    "- `enumerate()`\n",
    "- `zip()`\n",
    "\n",
    "important stuff\n",
    "- break\n",
    "- continue\n",
    "- `for else` loop\n"
   ]
  },
  {
   "cell_type": "code",
   "execution_count": 6,
   "metadata": {},
   "outputs": [
    {
     "name": "stdout",
     "output_type": "stream",
     "text": [
      "10\n",
      "9\n",
      "8\n",
      "7\n",
      "6\n",
      "5\n",
      "4\n",
      "3\n",
      "2\n",
      "1\n"
     ]
    }
   ],
   "source": [
    "for i in range(10, 0, -1):\n",
    "    print(i)"
   ]
  },
  {
   "cell_type": "code",
   "execution_count": 7,
   "metadata": {},
   "outputs": [
    {
     "name": "stdout",
     "output_type": "stream",
     "text": [
      "(0, 45)\n",
      "(1, 23)\n",
      "(2, 42)\n",
      "(3, 4)\n",
      "(4, 54)\n"
     ]
    }
   ],
   "source": [
    "data = [45,23,42,4,54]\n",
    "for item in enumerate(data):\n",
    "    print(item)"
   ]
  },
  {
   "cell_type": "code",
   "execution_count": 8,
   "metadata": {},
   "outputs": [
    {
     "name": "stdout",
     "output_type": "stream",
     "text": [
      "0 45\n",
      "1 23\n",
      "2 42\n",
      "3 4\n",
      "4 54\n"
     ]
    }
   ],
   "source": [
    "for i,v in enumerate(data):\n",
    "    print(i, v)"
   ]
  },
  {
   "cell_type": "code",
   "execution_count": 9,
   "metadata": {},
   "outputs": [
    {
     "name": "stdout",
     "output_type": "stream",
     "text": [
      "total app: 93\n"
     ]
    }
   ],
   "source": [
    "apps = [\n",
    "    'act fibernet', 'airtel','amazon','amazon alexa','app1','authenticator',\n",
    "    'axis mobile','blinkit','calculator','calendar','call of duty',\n",
    "    'camera','chain cube','chrome','cleanfox', 'clock','contact',\n",
    "    'diceone','digilocker','digital wellbeing','discord','dominos',\n",
    "    'drive','eatsure','exploding kitten','facebook','files','find device',\n",
    "    'fit','flipkart','flud','github','gmail','google','google one',\n",
    "    'google tv','gotowebinar','gpay','groww','grubl','hero app',\n",
    "    'hitman sniper','home','honkai impact 3rd','hotstar','infinity clan',\n",
    "    'instagram','kamonk','keep notes','lensa','linkedin','lmc8.4', 'maps',\n",
    "    'meet','memory zone','messages','messenger','movie maker','netflix',\n",
    "    'nitroshare','nothing x','ola','paytm','phone','photos','play store',\n",
    "    'poweraudio pro','powerpoint','prime video','prism live','recorder',\n",
    "    'reddit','rewards','sbi card','screen master','settings','sheets',\n",
    "    'snapdrop','spike','spiritfarer','steam','tap away','telegram',\n",
    "    'triple tile','truecaller','uber','whatsapp','xbox game pass','youtube',\n",
    "    'yt music','yt studio','zomato','zombie survivor'\n",
    "]\n",
    "print(f'total app: {len(apps)}')"
   ]
  },
  {
   "cell_type": "code",
   "execution_count": 10,
   "metadata": {},
   "outputs": [],
   "source": [
    "x = [1,2,3,4,5]\n",
    "y = [10,12,13,15,15]"
   ]
  },
  {
   "cell_type": "code",
   "execution_count": 11,
   "metadata": {},
   "outputs": [
    {
     "name": "stdout",
     "output_type": "stream",
     "text": [
      "11\n",
      "14\n",
      "16\n",
      "19\n",
      "20\n"
     ]
    }
   ],
   "source": [
    "# not pythonic\n",
    "for i in range(len(x)):\n",
    "    out =  x[i]+y[i]\n",
    "    print(out)"
   ]
  },
  {
   "cell_type": "code",
   "execution_count": 12,
   "metadata": {},
   "outputs": [
    {
     "name": "stdout",
     "output_type": "stream",
     "text": [
      "11\n",
      "14\n",
      "16\n",
      "19\n",
      "20\n"
     ]
    }
   ],
   "source": [
    "# pythonic\n",
    "for i,j in zip(x,y):\n",
    "    out = i + j\n",
    "    print(out)"
   ]
  },
  {
   "cell_type": "code",
   "execution_count": 13,
   "metadata": {},
   "outputs": [
    {
     "name": "stdout",
     "output_type": "stream",
     "text": [
      "8\n",
      "25\n",
      "5\n",
      "12\n",
      "125\n",
      "20\n"
     ]
    }
   ],
   "source": [
    "x = [2,5,1,2,5,2,5]\n",
    "y = [2,1,5,2,5,5]\n",
    "z = [2,5,1,3,5,2]\n",
    "for i,j,k in zip(x,y,z):\n",
    "    r = i * j * k # some equation\n",
    "    print(r)"
   ]
  },
  {
   "cell_type": "code",
   "execution_count": 14,
   "metadata": {},
   "outputs": [
    {
     "name": "stdout",
     "output_type": "stream",
     "text": [
      "0 act fibernet\n",
      "1 airtel\n",
      "2 amazon\n",
      "3 amazon alexa\n",
      "4 app1\n",
      "5 authenticator\n",
      "6 axis mobile\n",
      "7 blinkit\n",
      "8 calculator\n",
      "9 calendar\n"
     ]
    }
   ],
   "source": [
    "for i,app in enumerate(apps):\n",
    "    if i > 9:\n",
    "        break\n",
    "    print(i,app)"
   ]
  },
  {
   "cell_type": "code",
   "execution_count": 15,
   "metadata": {},
   "outputs": [
    {
     "name": "stdout",
     "output_type": "stream",
     "text": [
      "act fibernet\n",
      "airtel\n",
      "amazon\n",
      "amazon alexa\n",
      "app1\n",
      "authenticator\n",
      "axis mobile\n",
      "blinkit\n",
      "calculator\n",
      "calendar\n",
      "call of duty\n",
      "camera\n",
      "chain cube\n"
     ]
    }
   ],
   "source": [
    "for app in apps:\n",
    "    if app == 'chrome':\n",
    "        break\n",
    "    print(app)"
   ]
  },
  {
   "cell_type": "code",
   "execution_count": 16,
   "metadata": {},
   "outputs": [
    {
     "name": "stdout",
     "output_type": "stream",
     "text": [
      "act fibernet\n",
      "airtel\n",
      "z found in amazon\n"
     ]
    }
   ],
   "source": [
    "# if any app contain `z` in name, then stop\n",
    "for app in apps:\n",
    "    if 'z' in app:\n",
    "        print(f'z found in {app}')\n",
    "        break\n",
    "    print(app)"
   ]
  },
  {
   "cell_type": "code",
   "execution_count": 17,
   "metadata": {},
   "outputs": [
    {
     "name": "stdout",
     "output_type": "stream",
     "text": [
      "calendar\n",
      "call of duty\n",
      "diceone\n",
      "digilocker\n",
      "digital wellbeing\n",
      "discord\n",
      "dominos\n",
      "drive\n",
      "exploding kitten\n",
      "find device\n"
     ]
    }
   ],
   "source": [
    "c = 0\n",
    "for app in apps:\n",
    "    if 'd' in app:\n",
    "        print(app)\n",
    "        c += 1\n",
    "    if c == 10:\n",
    "        break\n"
   ]
  },
  {
   "cell_type": "code",
   "execution_count": 19,
   "metadata": {},
   "outputs": [
    {
     "name": "stdout",
     "output_type": "stream",
     "text": [
      "1\n",
      "2\n",
      "5\n",
      "5\n",
      "2\n",
      "5\n",
      "7\n",
      "2\n",
      "21\n"
     ]
    }
   ],
   "source": [
    "x = [1,2,0,5,5,0,2,5,0,7,0,0,2,21]\n",
    "for i in x:\n",
    "    if i == 0: continue # skip if value of i is 0\n",
    "    print(i)"
   ]
  },
  {
   "cell_type": "code",
   "execution_count": 20,
   "metadata": {},
   "outputs": [
    {
     "name": "stdout",
     "output_type": "stream",
     "text": [
      "amazon\n",
      "app1\n",
      "blinkit\n",
      "calculator\n",
      "call of duty\n",
      "clock\n",
      "contact\n",
      "discord\n",
      "dominos\n",
      "fit\n",
      "flipkart\n",
      "flud\n",
      "github\n",
      "gmail\n",
      "gpay\n",
      "groww\n",
      "grubl\n",
      "honkai impact 3rd\n",
      "hotstar\n",
      "infinity clan\n",
      "instagram\n",
      "kamonk\n",
      "lmc8.4\n",
      "maps\n",
      "nothing x\n",
      "ola\n",
      "paytm\n",
      "photos\n",
      "sbi card\n",
      "snapdrop\n",
      "tap away\n",
      "whatsapp\n",
      "yt music\n",
      "yt studio\n",
      "zomato\n"
     ]
    }
   ],
   "source": [
    "for app in apps:\n",
    "    if 'e' in app: continue\n",
    "    print(app)\n"
   ]
  },
  {
   "cell_type": "code",
   "execution_count": 22,
   "metadata": {},
   "outputs": [
    {
     "name": "stdout",
     "output_type": "stream",
     "text": [
      "lmc8.4\n"
     ]
    }
   ],
   "source": [
    "for app in apps:\n",
    "    if 'e' in app or 'a' in app or 'i' in app or 'o' in app or 'u' in app: continue\n",
    "    print(app)"
   ]
  },
  {
   "attachments": {},
   "cell_type": "markdown",
   "metadata": {},
   "source": [
    "while loop\n",
    "\n",
    "```\n",
    "while condition:\n",
    "    statement 1\n",
    "    ...\n",
    "    statement n\n",
    "```"
   ]
  },
  {
   "cell_type": "code",
   "execution_count": 36,
   "metadata": {},
   "outputs": [
    {
     "name": "stdout",
     "output_type": "stream",
     "text": [
      "17\n"
     ]
    }
   ],
   "source": [
    "# sum of all digit\n",
    "num = 19403\n",
    "total = 0\n",
    "while num > 0:\n",
    "    total += num % 10\n",
    "    num = num // 10\n",
    "print(total)\n"
   ]
  },
  {
   "cell_type": "code",
   "execution_count": 43,
   "metadata": {},
   "outputs": [
    {
     "name": "stdout",
     "output_type": "stream",
     "text": [
      "Wrong pin, 2 tries left\n",
      "welcome master 👑\n"
     ]
    }
   ],
   "source": [
    "retry = 0\n",
    "while retry < 3:\n",
    "    pin = input('enter pin: ')\n",
    "    if pin == '1234':\n",
    "        print(\"welcome master 👑\")\n",
    "        break\n",
    "    else:\n",
    "        print(f'Wrong pin, {2- retry} tries left')\n",
    "        retry += 1"
   ]
  },
  {
   "cell_type": "code",
   "execution_count": null,
   "metadata": {},
   "outputs": [],
   "source": []
  }
 ],
 "metadata": {
  "kernelspec": {
   "display_name": "base",
   "language": "python",
   "name": "python3"
  },
  "language_info": {
   "codemirror_mode": {
    "name": "ipython",
    "version": 3
   },
   "file_extension": ".py",
   "mimetype": "text/x-python",
   "name": "python",
   "nbconvert_exporter": "python",
   "pygments_lexer": "ipython3",
   "version": "3.10.9"
  },
  "orig_nbformat": 4,
  "vscode": {
   "interpreter": {
    "hash": "8befaed7f752a58a740e5f08c55a1efd8fcda412d7a2f1c4d828330769dea609"
   }
  }
 },
 "nbformat": 4,
 "nbformat_minor": 2
}
