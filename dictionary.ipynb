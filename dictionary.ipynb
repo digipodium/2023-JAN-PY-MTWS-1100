{
 "cells": [
  {
   "cell_type": "code",
   "execution_count": 1,
   "metadata": {},
   "outputs": [
    {
     "name": "stdout",
     "output_type": "stream",
     "text": [
      "{'name': 'John Cena', 'class': '2nd', 'rollno': 21, 'marks': 90}\n"
     ]
    }
   ],
   "source": [
    "student = {\n",
    "    'name': 'John Cena',\n",
    "    'class': '2nd',\n",
    "    'rollno': 21,\n",
    "    'marks': 90\n",
    "}\n",
    "print(student)"
   ]
  },
  {
   "cell_type": "code",
   "execution_count": 4,
   "metadata": {},
   "outputs": [
    {
     "name": "stdout",
     "output_type": "stream",
     "text": [
      "John Cena\n",
      "2nd\n"
     ]
    }
   ],
   "source": [
    "print(student['name'])\n",
    "print(student['class'])"
   ]
  },
  {
   "cell_type": "code",
   "execution_count": 6,
   "metadata": {},
   "outputs": [
    {
     "name": "stdout",
     "output_type": "stream",
     "text": [
      "John Cena\n",
      "2nd\n",
      "None\n"
     ]
    }
   ],
   "source": [
    "print(student.get('name'))\n",
    "print(student.get('class'))\n",
    "print(student.get('english'))"
   ]
  },
  {
   "cell_type": "code",
   "execution_count": 8,
   "metadata": {},
   "outputs": [
    {
     "name": "stdout",
     "output_type": "stream",
     "text": [
      "{'name': 'John Cena', 'class': '2nd', 'rollno': 21, 'marks': 90, 'school': 'CMS', 'father': 'Raja babu'}\n"
     ]
    }
   ],
   "source": [
    "# add a new entry\n",
    "student['school'] = 'CMS'\n",
    "student['father'] = 'Raja babu'\n",
    "print(student)"
   ]
  },
  {
   "cell_type": "code",
   "execution_count": 10,
   "metadata": {},
   "outputs": [
    {
     "name": "stdout",
     "output_type": "stream",
     "text": [
      "{'name': 'John Cena', 'class': '3rd class', 'rollno': 21, 'marks': 90, 'school': 'CMS', 'father': 'Raja babu'}\n"
     ]
    }
   ],
   "source": [
    "# update an entry\n",
    "student['class'] = '3rd class'\n",
    "\n",
    "print(student)"
   ]
  },
  {
   "cell_type": "code",
   "execution_count": 11,
   "metadata": {},
   "outputs": [],
   "source": [
    "series = {\n",
    "    'title':'Person of Interest',\n",
    "    'total_seasons':5,\n",
    "    'cast': ['Jim  Caviezel', 'others'],\n",
    "    'ott':'Amazon Prime',\n",
    "    'rating': 9.8\n",
    "}"
   ]
  },
  {
   "cell_type": "code",
   "execution_count": 12,
   "metadata": {},
   "outputs": [
    {
     "name": "stdout",
     "output_type": "stream",
     "text": [
      "title\n",
      "total_seasons\n",
      "cast\n",
      "ott\n",
      "rating\n"
     ]
    }
   ],
   "source": [
    "for key in series:\n",
    "    print(key)"
   ]
  },
  {
   "cell_type": "code",
   "execution_count": 13,
   "metadata": {},
   "outputs": [
    {
     "name": "stdout",
     "output_type": "stream",
     "text": [
      "title Person of Interest\n",
      "total_seasons 5\n",
      "cast ['Jim  Caviezel', 'others']\n",
      "ott Amazon Prime\n",
      "rating 9.8\n"
     ]
    }
   ],
   "source": [
    "for key in series:\n",
    "    print(key, series[key])"
   ]
  },
  {
   "cell_type": "code",
   "execution_count": 14,
   "metadata": {},
   "outputs": [
    {
     "name": "stdout",
     "output_type": "stream",
     "text": [
      "title Person of Interest\n",
      "total_seasons 5\n",
      "cast ['Jim  Caviezel', 'others']\n",
      "ott Amazon Prime\n",
      "rating 9.8\n"
     ]
    }
   ],
   "source": [
    "for k, v in series.items():\n",
    "    print(k, v)"
   ]
  },
  {
   "cell_type": "code",
   "execution_count": 15,
   "metadata": {},
   "outputs": [
    {
     "name": "stdout",
     "output_type": "stream",
     "text": [
      "Person of Interest\n",
      "5\n",
      "['Jim  Caviezel', 'others']\n",
      "Amazon Prime\n",
      "9.8\n"
     ]
    }
   ],
   "source": [
    "for v in series.values():\n",
    "    print(v)"
   ]
  },
  {
   "cell_type": "code",
   "execution_count": 16,
   "metadata": {},
   "outputs": [
    {
     "name": "stdout",
     "output_type": "stream",
     "text": [
      "dict_keys(['title', 'total_seasons', 'cast', 'ott', 'rating'])\n",
      "dict_values(['Person of Interest', 5, ['Jim  Caviezel', 'others'], 'Amazon Prime', 9.8])\n",
      "dict_items([('title', 'Person of Interest'), ('total_seasons', 5), ('cast', ['Jim  Caviezel', 'others']), ('ott', 'Amazon Prime'), ('rating', 9.8)])\n"
     ]
    }
   ],
   "source": [
    "print(series.keys())\n",
    "print(series.values())\n",
    "print(series.items())"
   ]
  },
  {
   "cell_type": "code",
   "execution_count": 17,
   "metadata": {},
   "outputs": [
    {
     "data": {
      "text/plain": [
       "'Amazon Prime'"
      ]
     },
     "execution_count": 17,
     "metadata": {},
     "output_type": "execute_result"
    }
   ],
   "source": [
    "series.pop('ott')"
   ]
  },
  {
   "cell_type": "code",
   "execution_count": null,
   "metadata": {},
   "outputs": [],
   "source": []
  }
 ],
 "metadata": {
  "kernelspec": {
   "display_name": "base",
   "language": "python",
   "name": "python3"
  },
  "language_info": {
   "codemirror_mode": {
    "name": "ipython",
    "version": 3
   },
   "file_extension": ".py",
   "mimetype": "text/x-python",
   "name": "python",
   "nbconvert_exporter": "python",
   "pygments_lexer": "ipython3",
   "version": "3.10.9"
  },
  "orig_nbformat": 4
 },
 "nbformat": 4,
 "nbformat_minor": 2
}
