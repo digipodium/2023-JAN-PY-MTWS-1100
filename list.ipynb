{
 "cells": [
  {
   "attachments": {},
   "cell_type": "markdown",
   "metadata": {},
   "source": [
    "# Data Structures\n",
    "- list\n",
    "    - ordered, indexed, mutable, duplicates allowed, `[ ]`\n",
    "- tuple\n",
    "    - ordered, indexed, **immutable**, duplicates allowed, `( )`\n",
    "- set\n",
    "    - unordered, unindexed, mutable, **only unique elements**, `{ }`\n",
    "- dict\n",
    "    - ordered, unindexed, mutable, **key:value pairs**, duplicates values allowed, `{ }`"
   ]
  },
  {
   "cell_type": "code",
   "execution_count": 21,
   "metadata": {},
   "outputs": [
    {
     "name": "stdout",
     "output_type": "stream",
     "text": [
      "[]\n",
      "[2, 3, 1, 36, 62]\n",
      "['a', 'b', 'c', 'd']\n",
      "[1, 'a', 2, 'b', 3, 'c']\n",
      "[1, 2, [3, 4], [5, 6]]\n"
     ]
    }
   ],
   "source": [
    "x = [] # empty list\n",
    "print(x)\n",
    "\n",
    "y = [2,3,1,36,62] # list of integers\n",
    "print(y)\n",
    "\n",
    "z = ['a','b','c','d'] # list of strings\n",
    "print(z)\n",
    "\n",
    "# list of mixed data types\n",
    "w = [1, 'a', 2, 'b', 3, 'c']\n",
    "print(w)\n",
    "\n",
    "# nested list\n",
    "v = [1,2,[3,4],[5,6]] # 4 elements\n",
    "print(v)"
   ]
  },
  {
   "cell_type": "code",
   "execution_count": 22,
   "metadata": {},
   "outputs": [
    {
     "name": "stdout",
     "output_type": "stream",
     "text": [
      "[100]\n"
     ]
    }
   ],
   "source": [
    "x.append(100) # append 100 to the end of the list\n",
    "print(x)"
   ]
  },
  {
   "cell_type": "code",
   "execution_count": 23,
   "metadata": {},
   "outputs": [
    {
     "name": "stdout",
     "output_type": "stream",
     "text": [
      "[2, 3, 1, 36, 62, 5]\n"
     ]
    }
   ],
   "source": [
    "y.append(5)\n",
    "print(y)"
   ]
  },
  {
   "cell_type": "code",
   "execution_count": 24,
   "metadata": {},
   "outputs": [
    {
     "name": "stdout",
     "output_type": "stream",
     "text": [
      "[2, 3, 1, 62, 5]\n"
     ]
    }
   ],
   "source": [
    "y.remove(36) # remove first occurence of 36 if it exists\n",
    "print(y)"
   ]
  },
  {
   "cell_type": "code",
   "execution_count": 25,
   "metadata": {},
   "outputs": [
    {
     "name": "stdout",
     "output_type": "stream",
     "text": [
      "[2, 3, 1, 62]\n"
     ]
    }
   ],
   "source": [
    "y.pop() # remove last element\n",
    "print(y)"
   ]
  },
  {
   "cell_type": "code",
   "execution_count": 26,
   "metadata": {},
   "outputs": [
    {
     "name": "stdout",
     "output_type": "stream",
     "text": [
      "[2, 3, 50, 1, 62]\n"
     ]
    }
   ],
   "source": [
    "y.insert(2, 50) # insert 50 at index 2 (shifts everything to the right)\n",
    "print(y)"
   ]
  },
  {
   "cell_type": "code",
   "execution_count": 27,
   "metadata": {},
   "outputs": [
    {
     "name": "stdout",
     "output_type": "stream",
     "text": [
      "[100, 2, 3, 50, 1, 62]\n"
     ]
    }
   ],
   "source": [
    "x.extend(y)\n",
    "print(x)"
   ]
  },
  {
   "cell_type": "code",
   "execution_count": 28,
   "metadata": {},
   "outputs": [
    {
     "name": "stdout",
     "output_type": "stream",
     "text": [
      "[62, 1, 50, 3, 2]\n"
     ]
    }
   ],
   "source": [
    "y.reverse() # reverse the list\n",
    "print(y)"
   ]
  },
  {
   "cell_type": "code",
   "execution_count": 29,
   "metadata": {},
   "outputs": [
    {
     "name": "stdout",
     "output_type": "stream",
     "text": [
      "[1, 2, 3, 50, 62]\n"
     ]
    }
   ],
   "source": [
    "y.sort()\n",
    "print(y)"
   ]
  },
  {
   "cell_type": "code",
   "execution_count": 30,
   "metadata": {},
   "outputs": [
    {
     "name": "stdout",
     "output_type": "stream",
     "text": [
      "[62, 50, 3, 2, 1]\n"
     ]
    }
   ],
   "source": [
    "y.sort(reverse=True)\n",
    "print(y)"
   ]
  },
  {
   "cell_type": "code",
   "execution_count": null,
   "metadata": {},
   "outputs": [],
   "source": []
  }
 ],
 "metadata": {
  "kernelspec": {
   "display_name": "base",
   "language": "python",
   "name": "python3"
  },
  "language_info": {
   "codemirror_mode": {
    "name": "ipython",
    "version": 3
   },
   "file_extension": ".py",
   "mimetype": "text/x-python",
   "name": "python",
   "nbconvert_exporter": "python",
   "pygments_lexer": "ipython3",
   "version": "3.10.9"
  },
  "orig_nbformat": 4
 },
 "nbformat": 4,
 "nbformat_minor": 2
}
